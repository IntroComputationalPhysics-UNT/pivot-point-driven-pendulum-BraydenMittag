{
  "nbformat": 4,
  "nbformat_minor": 0,
  "metadata": {
    "colab": {
      "provenance": [],
      "authorship_tag": "ABX9TyMBTba56RgW5ku6epJzRDVF",
      "include_colab_link": true
    },
    "kernelspec": {
      "name": "python3",
      "display_name": "Python 3"
    },
    "language_info": {
      "name": "python"
    }
  },
  "cells": [
    {
      "cell_type": "markdown",
      "metadata": {
        "id": "view-in-github",
        "colab_type": "text"
      },
      "source": [
        "<a href=\"https://colab.research.google.com/github/IntroComputationalPhysics-UNT/pivot-point-driven-pendulum-BraydenMittag/blob/main/StabilityHW.ipynb\" target=\"_parent\"><img src=\"https://colab.research.google.com/assets/colab-badge.svg\" alt=\"Open In Colab\"/></a>"
      ]
    },
    {
      "cell_type": "code",
      "execution_count": 34,
      "metadata": {
        "id": "qmS8culNdJBI"
      },
      "outputs": [],
      "source": [
        "# Import necessary libraries\n",
        "import numpy as np\n",
        "from scipy.integrate import solve_ivp\n",
        "import matplotlib.pyplot as plt\n",
        "from matplotlib.animation import FuncAnimation\n",
        "from IPython.display import HTML\n"
      ]
    },
    {
      "cell_type": "code",
      "source": [
        "# Create pendulum animation\n",
        "def create_pendulum_animation(t, x_pivot, y_pivot, x_lab, y_lab, l=1, show_traj=False, speed_factor=1.0):\n",
        "    \"\"\"\n",
        "    Creates an animation of the pivot-driven pendulum.\n",
        "\n",
        "    PARAMETERS:\n",
        "    t : ndarray\n",
        "        Time array.\n",
        "    x_pivot : ndarray\n",
        "        x-positions of the pivot over time.\n",
        "    y_pivot : ndarray\n",
        "        y-positions of the pivot over time.\n",
        "    x_lab : ndarray\n",
        "        x-positions of the pendulum bob in the lab frame over time.\n",
        "    y_lab : ndarray\n",
        "        y-positions of the pendulum bob in the lab frame over time.\n",
        "    l : float, optional\n",
        "        pendulum length (default is 1).\n",
        "    show_traj : bool, optional\n",
        "        Whether to show the trajectory of the pendulum bob (default is False).\n",
        "    speed_factor : float, optional\n",
        "        Factor to speed up or slow down the animation (default is 1.0).\n",
        "    \"\"\"\n",
        "    fig, ax = plt.subplots(figsize=(4, 4)) # Increased figure size\n",
        "    ax.set_xlim(np.min(x_pivot) - l, np.max(x_pivot) + l)\n",
        "    ax.set_ylim(np.min(y_pivot) - l, np.max(y_pivot) + l)\n",
        "    # ax.set_aspect('equal', adjustable='box')\n",
        "    ax.set_aspect('equal')\n",
        "    ax.set_xlabel('x')\n",
        "    ax.set_ylabel('y')\n",
        "\n",
        "    # Initialize plot elements\n",
        "    pivot, = ax.plot([], [], 'o', color='black', markersize=8, label='Pivot')\n",
        "    pendulum_arm, = ax.plot([], [], '-', color='black', lw=2, label='Pendulum Arm')\n",
        "    pendulum_bob, = ax.plot([], [], 'o', color='red', markersize=12, label='Pendulum Bob')\n",
        "    trajectory = None # Initialize trajectory to None\n",
        "\n",
        "    if show_traj:\n",
        "        trajectory, = ax.plot([], [], '-', color='gray', lw=1, alpha=0.5, label='Trajectory') # Add trajectory line\n",
        "\n",
        "    def animate(i):\n",
        "        # Update the positions of the plot elements\n",
        "        pivot.set_data([x_pivot[i]], [y_pivot[i]]) # Pass as sequences\n",
        "        pendulum_arm.set_data([x_pivot[i], x_lab[i]], [y_pivot[i], y_lab[i]])\n",
        "        pendulum_bob.set_data([x_lab[i]], [y_lab[i]]) # Pass as sequences\n",
        "\n",
        "        artists = [pivot, pendulum_arm, pendulum_bob] # List of artists to update\n",
        "\n",
        "        if show_traj and trajectory:\n",
        "             trajectory.set_data(x_lab[:i+1], y_lab[:i+1]) # Update trajectory data\n",
        "             artists.append(trajectory) # Add trajectory to the list of artists\n",
        "\n",
        "        return artists # Return all updated artists\n",
        "\n",
        "    # Create the animation\n",
        "    # Adjust the interval based on the average time step in t\n",
        "    # This aims to make the animation speed consistent with the simulation time\n",
        "    average_time_step = np.mean(np.diff(t))\n",
        "    # Scale the interval by the speed_factor\n",
        "    interval = average_time_step * 1000 * speed_factor # Convert to milliseconds and apply speed_factor.\n",
        "\n",
        "    anim = FuncAnimation(fig, animate, frames=len(t), interval=interval, blit=True)\n",
        "    plt.close(fig) # Close the initial figure to prevent it from displaying\n",
        "\n",
        "    return anim"
      ],
      "metadata": {
        "id": "ksS85jHpdPP5"
      },
      "execution_count": 35,
      "outputs": []
    },
    {
      "cell_type": "code",
      "source": [
        "# Physical constants\n",
        "g = 9.81  # m/s^2, acceleration due to gravity\n",
        "l = 1.0   # m, length of the pendulum\n",
        "m = 1.0   # kg, mass of the pendulum bob (cancels out in the EOM, but good for clarity)\n",
        "\n",
        "# Drive parameters\n",
        "omega_d = 2 * np.pi  # rad/s, driving frequency\n",
        "\n",
        "# Equation of motion function for solve_ivp\n",
        "def pendulum_eom(t, state):\n",
        "    theta, theta_dot = state\n",
        "\n",
        "    # Pivot motion and its derivatives\n",
        "    x_p = -l * np.sin(omega_d * t)\n",
        "    y_p = l * (1 - np.cos(omega_d * t))\n",
        "\n",
        "    x_p_dot = -l * omega_d * np.cos(omega_d * t)\n",
        "    y_p_dot = l * omega_d * np.sin(omega_d * t)\n",
        "\n",
        "    x_p_ddot = l * omega_d**2 * np.sin(omega_d * t)\n",
        "    y_p_ddot = l * omega_d**2 * np.cos(omega_d * t)\n",
        "\n",
        "    # Equation of motion from the search results\n",
        "    theta_ddot = (-g/l) * np.sin(theta) + (y_p_ddot/l) * np.sin(theta) + (x_p_ddot/l) * np.cos(theta)\n",
        "\n",
        "    return [theta_dot, theta_ddot]\n",
        "\n",
        "# Time parameters\n",
        "t_span = (0, 20)  # Total simulation time\n",
        "t_eval = np.linspace(t_span[0], t_span[1], 1000)\n",
        "\n",
        "# Initial conditions (start at rest, vertically down)\n",
        "initial_state = [0, 0]  # [theta_0, theta_dot_0]\n",
        "\n",
        "# Numerical integration using solve_ivp\n",
        "sol = solve_ivp(pendulum_eom, t_span, initial_state, t_eval=t_eval, method='RK45')\n",
        "\n",
        "# Extract results\n",
        "t = sol.t\n",
        "theta = sol.y[0]\n",
        "theta_dot = sol.y[1]\n",
        "\n",
        "# Calculate positions for animation\n",
        "x_pivot = -l * np.sin(omega_d * t)\n",
        "y_pivot = l * (1 - np.cos(omega_d * t))\n",
        "\n",
        "x_lab = x_pivot + l * np.sin(theta)\n",
        "y_lab = y_pivot - l * np.cos(theta)\n"
      ],
      "metadata": {
        "id": "Nh2VKmDbdRvi"
      },
      "execution_count": 36,
      "outputs": []
    },
    {
      "cell_type": "code",
      "metadata": {
        "colab": {
          "base_uri": "https://localhost:8080/"
        },
        "id": "88b62598",
        "outputId": "569cc8d4-5df6-46cb-e147-2e48e4c9f004"
      },
      "source": [
        "# Create and display the animation\n",
        "animation = create_pendulum_animation(t, x_pivot, y_pivot, x_lab, y_lab, l=l, show_traj=True, speed_factor=1.0)\n",
        "animation"
      ],
      "execution_count": 37,
      "outputs": [
        {
          "output_type": "execute_result",
          "data": {
            "text/plain": [
              "<matplotlib.animation.FuncAnimation at 0x7d18e4f4f1a0>"
            ]
          },
          "metadata": {},
          "execution_count": 37
        }
      ]
    }
  ]
}